{
 "cells": [
  {
   "cell_type": "markdown",
   "id": "be338fa4-0625-4c1a-a0da-0d12d06e5c07",
   "metadata": {},
   "source": [
    "# Math package & Input Command Line's"
   ]
  },
  {
   "cell_type": "markdown",
   "id": "18d2ba37-1003-4755-90d0-9e825f060b4c",
   "metadata": {},
   "source": [
    "# Math function"
   ]
  },
  {
   "cell_type": "code",
   "execution_count": 15,
   "id": "61ea5244-f774-4ccb-81d3-cf7737fbdbdb",
   "metadata": {},
   "outputs": [
    {
     "data": {
      "text/plain": [
       "5.0"
      ]
     },
     "execution_count": 15,
     "metadata": {},
     "output_type": "execute_result"
    }
   ],
   "source": [
    "import math\n",
    "x = math.sqrt(25)\n",
    "x"
   ]
  },
  {
   "cell_type": "code",
   "execution_count": 17,
   "id": "9c62c3ad-d857-4300-a3f6-8f999594fcf1",
   "metadata": {},
   "outputs": [
    {
     "data": {
      "text/plain": [
       "3.872983346207417"
      ]
     },
     "execution_count": 17,
     "metadata": {},
     "output_type": "execute_result"
    }
   ],
   "source": [
    "x = math.sqrt(15)\n",
    "x"
   ]
  },
  {
   "cell_type": "code",
   "execution_count": 19,
   "id": "2739bb06-1001-410c-b78a-01e078a97383",
   "metadata": {},
   "outputs": [
    {
     "name": "stdout",
     "output_type": "stream",
     "text": [
      "3\n"
     ]
    }
   ],
   "source": [
    "print(math.floor(3.87))"
   ]
  },
  {
   "cell_type": "code",
   "execution_count": 22,
   "id": "ed73cf3b-ce0a-4543-8096-1c47a74f938b",
   "metadata": {},
   "outputs": [
    {
     "name": "stdout",
     "output_type": "stream",
     "text": [
      "4\n"
     ]
    }
   ],
   "source": [
    "print(math.ceil(3.87))"
   ]
  },
  {
   "cell_type": "code",
   "execution_count": 26,
   "id": "f6d812eb-cd12-44e0-96bf-0771cf3ac47e",
   "metadata": {},
   "outputs": [
    {
     "name": "stdout",
     "output_type": "stream",
     "text": [
      "9.0\n"
     ]
    }
   ],
   "source": [
    "print(math.pow(3,2))"
   ]
  },
  {
   "cell_type": "code",
   "execution_count": 28,
   "id": "0eef5778-1de9-4f0f-adf8-b0e35e3c1899",
   "metadata": {},
   "outputs": [
    {
     "name": "stdout",
     "output_type": "stream",
     "text": [
      "2.718281828459045\n"
     ]
    }
   ],
   "source": [
    "print(math.e)"
   ]
  },
  {
   "cell_type": "code",
   "execution_count": 30,
   "id": "a9b31aff-b6dd-4fea-bb0e-ab3088ef1ab5",
   "metadata": {},
   "outputs": [
    {
     "name": "stdout",
     "output_type": "stream",
     "text": [
      "3.141592653589793\n"
     ]
    }
   ],
   "source": [
    "print(math.pi)"
   ]
  },
  {
   "cell_type": "code",
   "execution_count": 32,
   "id": "d0375a41-934e-4af7-b6b4-95149026582a",
   "metadata": {},
   "outputs": [
    {
     "ename": "NameError",
     "evalue": "name 'm' is not defined",
     "output_type": "error",
     "traceback": [
      "\u001b[1;31m---------------------------------------------------------------------------\u001b[0m",
      "\u001b[1;31mNameError\u001b[0m                                 Traceback (most recent call last)",
      "Cell \u001b[1;32mIn[32], line 1\u001b[0m\n\u001b[1;32m----> 1\u001b[0m m\u001b[38;5;241m.\u001b[39msqrt(\u001b[38;5;241m25\u001b[39m)\n",
      "\u001b[1;31mNameError\u001b[0m: name 'm' is not defined"
     ]
    }
   ],
   "source": [
    "m.sqrt(25)"
   ]
  },
  {
   "cell_type": "code",
   "execution_count": 34,
   "id": "2a9ff53e-6839-44cf-8303-11cd3925538a",
   "metadata": {},
   "outputs": [
    {
     "data": {
      "text/plain": [
       "5.0"
      ]
     },
     "execution_count": 34,
     "metadata": {},
     "output_type": "execute_result"
    }
   ],
   "source": [
    "import math as m\n",
    "m.sqrt(25)"
   ]
  },
  {
   "cell_type": "code",
   "execution_count": 36,
   "id": "89d1de26-25df-47c0-bfb7-3e3f23d5bc95",
   "metadata": {},
   "outputs": [
    {
     "name": "stdout",
     "output_type": "stream",
     "text": [
      "8.0\n",
      "5.0\n",
      "2\n",
      "3\n"
     ]
    }
   ],
   "source": [
    "from math import sqrt,pow,floor,ceil\n",
    "\n",
    "print(pow(2,3))\n",
    "print(sqrt(25))\n",
    "print(floor(2.3))\n",
    "print(ceil(2.3))"
   ]
  },
  {
   "cell_type": "code",
   "execution_count": 38,
   "id": "00a6cae9-31a5-47c0-a940-fde2bc47aa91",
   "metadata": {},
   "outputs": [
    {
     "name": "stdout",
     "output_type": "stream",
     "text": [
      "8.0\n",
      "5.0\n",
      "2\n",
      "3\n"
     ]
    }
   ],
   "source": [
    "from math import *\n",
    "\n",
    "print(pow(2,3))\n",
    "print(sqrt(25))\n",
    "print(floor(2.3))\n",
    "print(ceil(2.3))"
   ]
  },
  {
   "cell_type": "code",
   "execution_count": 40,
   "id": "11d92c20-a09d-4785-845b-b9c8d8344d7f",
   "metadata": {},
   "outputs": [
    {
     "data": {
      "text/plain": [
       "8"
      ]
     },
     "execution_count": 40,
     "metadata": {},
     "output_type": "execute_result"
    }
   ],
   "source": [
    "round(pow(2,3))"
   ]
  },
  {
   "cell_type": "markdown",
   "id": "5ca46fb7-f568-44e3-994a-d1169bf3cc38",
   "metadata": {},
   "source": [
    "# Input Fucntion"
   ]
  },
  {
   "cell_type": "code",
   "execution_count": 1,
   "id": "f2724074-b5a3-4840-9f90-6dc47bb8c881",
   "metadata": {},
   "outputs": [
    {
     "name": "stdin",
     "output_type": "stream",
     "text": [
      " 1\n"
     ]
    },
    {
     "data": {
      "text/plain": [
       "'1'"
      ]
     },
     "execution_count": 1,
     "metadata": {},
     "output_type": "execute_result"
    }
   ],
   "source": [
    "x = input()\n",
    "x"
   ]
  },
  {
   "cell_type": "code",
   "execution_count": 2,
   "id": "0e2a999a-a652-47f9-a107-1ef904fb9ddc",
   "metadata": {},
   "outputs": [
    {
     "data": {
      "text/plain": [
       "str"
      ]
     },
     "execution_count": 2,
     "metadata": {},
     "output_type": "execute_result"
    }
   ],
   "source": [
    "type(x)"
   ]
  },
  {
   "cell_type": "code",
   "execution_count": 3,
   "id": "2d76fc24-ca45-4aaf-b7b5-6b2cf60aa83c",
   "metadata": {},
   "outputs": [
    {
     "name": "stdin",
     "output_type": "stream",
     "text": [
      " 2\n",
      " 3\n"
     ]
    },
    {
     "name": "stdout",
     "output_type": "stream",
     "text": [
      "23\n"
     ]
    }
   ],
   "source": [
    "x = input()\n",
    "y = input()\n",
    "z = x+y\n",
    "print(z)"
   ]
  },
  {
   "cell_type": "code",
   "execution_count": 4,
   "id": "ae6e938e-5cde-4147-acb1-736756312e65",
   "metadata": {},
   "outputs": [
    {
     "data": {
      "text/plain": [
       "str"
      ]
     },
     "execution_count": 4,
     "metadata": {},
     "output_type": "execute_result"
    }
   ],
   "source": [
    "type(z)"
   ]
  },
  {
   "cell_type": "code",
   "execution_count": 5,
   "id": "c29acadb-cfee-4723-b62d-655d77213684",
   "metadata": {},
   "outputs": [
    {
     "name": "stdin",
     "output_type": "stream",
     "text": [
      " 2\n",
      " 3\n"
     ]
    },
    {
     "name": "stdout",
     "output_type": "stream",
     "text": [
      "5\n"
     ]
    }
   ],
   "source": [
    "x = int(input()) # we including type casting \n",
    "y = int(input())\n",
    "z = x+y\n",
    "print(z)"
   ]
  },
  {
   "cell_type": "code",
   "execution_count": 6,
   "id": "7f2827a4-4762-4c9a-91c8-c998fb9f4b92",
   "metadata": {},
   "outputs": [
    {
     "name": "stdin",
     "output_type": "stream",
     "text": [
      "enter first number 2\n",
      "enter secound number 3\n"
     ]
    },
    {
     "name": "stdout",
     "output_type": "stream",
     "text": [
      "5\n"
     ]
    }
   ],
   "source": [
    "x1 = input('enter first number')\n",
    "a1 = int(x1)\n",
    "y1 = input('enter secound number')\n",
    "b1 = int(y1)\n",
    "z1 = a1+b1\n",
    "print(z1)"
   ]
  },
  {
   "cell_type": "code",
   "execution_count": 7,
   "id": "01f2af4a-570b-449b-91dd-44f5ec16cc94",
   "metadata": {},
   "outputs": [
    {
     "name": "stdin",
     "output_type": "stream",
     "text": [
      "enter a char hlo\n"
     ]
    },
    {
     "name": "stdout",
     "output_type": "stream",
     "text": [
      "hlo\n"
     ]
    }
   ],
   "source": [
    "ch = input('enter a char')\n",
    "print(ch)"
   ]
  },
  {
   "cell_type": "code",
   "execution_count": 8,
   "id": "1d9daf72-9a59-4cd1-bce6-b3ba5c93f0de",
   "metadata": {},
   "outputs": [
    {
     "name": "stdout",
     "output_type": "stream",
     "text": [
      "h\n"
     ]
    }
   ],
   "source": [
    "print(ch[0])"
   ]
  },
  {
   "cell_type": "code",
   "execution_count": 9,
   "id": "1e878722-ff5b-4566-9d70-68ba3fdebda2",
   "metadata": {},
   "outputs": [
    {
     "name": "stdin",
     "output_type": "stream",
     "text": [
      "enter a char udayvikas\n"
     ]
    },
    {
     "name": "stdout",
     "output_type": "stream",
     "text": [
      "u\n"
     ]
    }
   ],
   "source": [
    "ch = input('enter a char')[0]\n",
    "print(ch)"
   ]
  },
  {
   "cell_type": "code",
   "execution_count": 10,
   "id": "e93239a9-a104-4663-ac09-3df46db6a336",
   "metadata": {},
   "outputs": [
    {
     "name": "stdin",
     "output_type": "stream",
     "text": [
      "enter a name udayvikas\n"
     ]
    },
    {
     "name": "stdout",
     "output_type": "stream",
     "text": [
      "uday\n"
     ]
    }
   ],
   "source": [
    "ch = input('enter a name')[0:4]\n",
    "print(ch)"
   ]
  },
  {
   "cell_type": "code",
   "execution_count": 11,
   "id": "c871b6be-c576-495a-8582-5f4e4a30f024",
   "metadata": {},
   "outputs": [
    {
     "name": "stdin",
     "output_type": "stream",
     "text": [
      "enter a no 2+3-1\n"
     ]
    },
    {
     "name": "stdout",
     "output_type": "stream",
     "text": [
      "4\n"
     ]
    }
   ],
   "source": [
    "st = eval(input('enter a no'))\n",
    "print(st)"
   ]
  },
  {
   "cell_type": "code",
   "execution_count": 12,
   "id": "9ce981d1-d98e-4fe6-b392-17e8c91bed21",
   "metadata": {},
   "outputs": [
    {
     "name": "stdin",
     "output_type": "stream",
     "text": [
      "enter a no 2+3-1\n"
     ]
    },
    {
     "ename": "ValueError",
     "evalue": "invalid literal for int() with base 10: '2+3-1'",
     "output_type": "error",
     "traceback": [
      "\u001b[1;31m---------------------------------------------------------------------------\u001b[0m",
      "\u001b[1;31mValueError\u001b[0m                                Traceback (most recent call last)",
      "Cell \u001b[1;32mIn[12], line 1\u001b[0m\n\u001b[1;32m----> 1\u001b[0m ch \u001b[38;5;241m=\u001b[39m \u001b[38;5;28mint\u001b[39m(\u001b[38;5;28minput\u001b[39m(\u001b[38;5;124m'\u001b[39m\u001b[38;5;124menter a no\u001b[39m\u001b[38;5;124m'\u001b[39m))\n\u001b[0;32m      2\u001b[0m \u001b[38;5;28mprint\u001b[39m(ch)\n",
      "\u001b[1;31mValueError\u001b[0m: invalid literal for int() with base 10: '2+3-1'"
     ]
    }
   ],
   "source": [
    "ch = int(input('enter a no'))\n",
    "print(ch)"
   ]
  }
 ],
 "metadata": {
  "kernelspec": {
   "display_name": "Python 3 (ipykernel)",
   "language": "python",
   "name": "python3"
  },
  "language_info": {
   "codemirror_mode": {
    "name": "ipython",
    "version": 3
   },
   "file_extension": ".py",
   "mimetype": "text/x-python",
   "name": "python",
   "nbconvert_exporter": "python",
   "pygments_lexer": "ipython3",
   "version": "3.12.7"
  }
 },
 "nbformat": 4,
 "nbformat_minor": 5
}
