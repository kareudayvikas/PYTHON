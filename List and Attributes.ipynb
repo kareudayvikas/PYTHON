{
 "cells": [
  {
   "cell_type": "markdown",
   "id": "dd167819-f2b8-4ebb-b1e2-8cd8c4178ac8",
   "metadata": {},
   "source": [
    "# List introduction and we have append,len,id,copy,remove,slicing,index,for loop,pop,Count,Extend,sort."
   ]
  },
  {
   "cell_type": "code",
   "execution_count": 306,
   "id": "b29fcff1-8065-44ee-a41e-6ce8339c719c",
   "metadata": {},
   "outputs": [
    {
     "data": {
      "text/plain": [
       "[]"
      ]
     },
     "execution_count": 306,
     "metadata": {},
     "output_type": "execute_result"
    }
   ],
   "source": [
    "s = []\n",
    "s"
   ]
  },
  {
   "cell_type": "code",
   "execution_count": 308,
   "id": "ed1acce4-32e4-4681-9049-ecf8c4f905e1",
   "metadata": {},
   "outputs": [
    {
     "data": {
      "text/plain": [
       "[10, 20, 30, 40, 'uday']"
      ]
     },
     "execution_count": 308,
     "metadata": {},
     "output_type": "execute_result"
    }
   ],
   "source": [
    "s.append(10)         # List is mutable\n",
    "s.append(20)\n",
    "s.append(30)\n",
    "s.append(40)\n",
    "s.append('uday')\n",
    "s"
   ]
  },
  {
   "cell_type": "code",
   "execution_count": 310,
   "id": "b363dfb6-5d0c-4e0b-bf9d-7f828abbe5be",
   "metadata": {},
   "outputs": [
    {
     "name": "stdout",
     "output_type": "stream",
     "text": [
      "5\n"
     ]
    }
   ],
   "source": [
    "print(len(s))"
   ]
  },
  {
   "cell_type": "code",
   "execution_count": 312,
   "id": "596f15de-9953-4a4b-8ae1-6e9fc337ce28",
   "metadata": {},
   "outputs": [
    {
     "name": "stdout",
     "output_type": "stream",
     "text": [
      "3212334171840\n"
     ]
    }
   ],
   "source": [
    "print(id(s))"
   ]
  },
  {
   "cell_type": "code",
   "execution_count": 314,
   "id": "ccf5600e-ada3-43da-b625-7a30c71e4b6c",
   "metadata": {},
   "outputs": [
    {
     "data": {
      "text/plain": [
       "[10, 20, 30, 40, 'uday', [1, 2, 3]]"
      ]
     },
     "execution_count": 314,
     "metadata": {},
     "output_type": "execute_result"
    }
   ],
   "source": [
    "s.append([1,2,3])\n",
    "s"
   ]
  },
  {
   "cell_type": "code",
   "execution_count": 316,
   "id": "873efba3-235d-4d94-a3d6-6de5566d115c",
   "metadata": {},
   "outputs": [],
   "source": [
    "s2 = s.copy()"
   ]
  },
  {
   "cell_type": "code",
   "execution_count": 318,
   "id": "a0ad98c4-73f7-4991-8fa9-09b4468c2689",
   "metadata": {},
   "outputs": [
    {
     "data": {
      "text/plain": [
       "[10, 20, 30, 40, 'uday', [1, 2, 3]]"
      ]
     },
     "execution_count": 318,
     "metadata": {},
     "output_type": "execute_result"
    }
   ],
   "source": [
    "s2"
   ]
  },
  {
   "cell_type": "code",
   "execution_count": 320,
   "id": "69f6a391-527c-438d-8cb1-a167943030eb",
   "metadata": {},
   "outputs": [
    {
     "data": {
      "text/plain": [
       "[10, 30, 40, 'uday', [1, 2, 3]]"
      ]
     },
     "execution_count": 320,
     "metadata": {},
     "output_type": "execute_result"
    }
   ],
   "source": [
    "s2.remove(20)\n",
    "s2"
   ]
  },
  {
   "cell_type": "code",
   "execution_count": 322,
   "id": "a875b327-ceee-4d74-831d-b27cd8b6c122",
   "metadata": {},
   "outputs": [
    {
     "data": {
      "text/plain": [
       "[]"
      ]
     },
     "execution_count": 322,
     "metadata": {},
     "output_type": "execute_result"
    }
   ],
   "source": [
    "s2.clear()\n",
    "s2"
   ]
  },
  {
   "cell_type": "code",
   "execution_count": 324,
   "id": "1c8b0d39-ca06-45db-bff9-29b60e47cacc",
   "metadata": {},
   "outputs": [
    {
     "name": "stdout",
     "output_type": "stream",
     "text": [
      "3212333526720\n"
     ]
    }
   ],
   "source": [
    "print(id(s2))"
   ]
  },
  {
   "cell_type": "code",
   "execution_count": 326,
   "id": "d2094e82-6ba0-4a2b-b2e6-46af17b9310a",
   "metadata": {},
   "outputs": [
    {
     "data": {
      "text/plain": [
       "[[1, 2, 3], 'uday', 40, 30, 20, 10]"
      ]
     },
     "execution_count": 326,
     "metadata": {},
     "output_type": "execute_result"
    }
   ],
   "source": [
    "s[::-1]"
   ]
  },
  {
   "cell_type": "code",
   "execution_count": 328,
   "id": "144e85f3-cda4-4494-853c-5b57a5bfb5dc",
   "metadata": {},
   "outputs": [
    {
     "data": {
      "text/plain": [
       "[10, 20, 30, 40, 'uday']"
      ]
     },
     "execution_count": 328,
     "metadata": {},
     "output_type": "execute_result"
    }
   ],
   "source": [
    "s[-6:-1]"
   ]
  },
  {
   "cell_type": "code",
   "execution_count": 330,
   "id": "edf430d9-8532-4db5-8e9f-93c00ea93a97",
   "metadata": {},
   "outputs": [
    {
     "data": {
      "text/plain": [
       "4"
      ]
     },
     "execution_count": 330,
     "metadata": {},
     "output_type": "execute_result"
    }
   ],
   "source": [
    "s.index('uday')"
   ]
  },
  {
   "cell_type": "code",
   "execution_count": 332,
   "id": "13bb467f-2b1f-4279-9817-8ed472998552",
   "metadata": {},
   "outputs": [
    {
     "name": "stdout",
     "output_type": "stream",
     "text": [
      "10\n",
      "20\n",
      "30\n",
      "40\n",
      "uday\n",
      "[1, 2, 3]\n"
     ]
    }
   ],
   "source": [
    "for i in s:\n",
    "    print(i)"
   ]
  },
  {
   "cell_type": "code",
   "execution_count": 334,
   "id": "844f30a4-9636-407e-962d-e8e7c841c8ce",
   "metadata": {},
   "outputs": [
    {
     "data": {
      "text/plain": [
       "[10, 20, 30, 40, 'uday', [1, 2, 3]]"
      ]
     },
     "execution_count": 334,
     "metadata": {},
     "output_type": "execute_result"
    }
   ],
   "source": [
    "s"
   ]
  },
  {
   "cell_type": "code",
   "execution_count": 336,
   "id": "f303a7b8-e7fd-4b9e-8b6c-d5b03dd044ab",
   "metadata": {},
   "outputs": [
    {
     "data": {
      "text/plain": [
       "[1, 2, 3]"
      ]
     },
     "execution_count": 336,
     "metadata": {},
     "output_type": "execute_result"
    }
   ],
   "source": [
    "s.pop()"
   ]
  },
  {
   "cell_type": "code",
   "execution_count": 338,
   "id": "77dc2ee0-78d1-4570-89d2-1bfac1b44e9a",
   "metadata": {},
   "outputs": [
    {
     "data": {
      "text/plain": [
       "[10, 20, 30, 40, 'uday']"
      ]
     },
     "execution_count": 338,
     "metadata": {},
     "output_type": "execute_result"
    }
   ],
   "source": [
    "s"
   ]
  },
  {
   "cell_type": "code",
   "execution_count": 340,
   "id": "f2ef322b-3057-449c-aaf6-b888564a55f0",
   "metadata": {},
   "outputs": [
    {
     "data": {
      "text/plain": [
       "40"
      ]
     },
     "execution_count": 340,
     "metadata": {},
     "output_type": "execute_result"
    }
   ],
   "source": [
    "s.pop(3)"
   ]
  },
  {
   "cell_type": "code",
   "execution_count": 342,
   "id": "d7c63760-3def-4c91-8bcb-acf24ae1aae2",
   "metadata": {},
   "outputs": [
    {
     "data": {
      "text/plain": [
       "[10, 20, 30, 'uday']"
      ]
     },
     "execution_count": 342,
     "metadata": {},
     "output_type": "execute_result"
    }
   ],
   "source": [
    "s"
   ]
  },
  {
   "cell_type": "code",
   "execution_count": 344,
   "id": "6e9e30fe-1d78-48b4-ac2c-e2837f76b277",
   "metadata": {},
   "outputs": [
    {
     "data": {
      "text/plain": [
       "[10, 20, 30, 'uday', 40, 50, 60]"
      ]
     },
     "execution_count": 344,
     "metadata": {},
     "output_type": "execute_result"
    }
   ],
   "source": [
    "s.append(40)\n",
    "s.append(50)\n",
    "s.append(60)\n",
    "s"
   ]
  },
  {
   "cell_type": "markdown",
   "id": "62c3618d-0636-4c79-85bc-aa692e5c87cf",
   "metadata": {},
   "source": [
    "# Slicing"
   ]
  },
  {
   "cell_type": "code",
   "execution_count": 347,
   "id": "31d8618c-2fe6-4ecb-b7aa-f351c77f954d",
   "metadata": {},
   "outputs": [
    {
     "data": {
      "text/plain": [
       "[10, 20, 30, 'uday', 40, 50, 60]"
      ]
     },
     "execution_count": 347,
     "metadata": {},
     "output_type": "execute_result"
    }
   ],
   "source": [
    "s[:]"
   ]
  },
  {
   "cell_type": "code",
   "execution_count": 349,
   "id": "0c975705-90bf-4c85-8f9d-8ec64c160dc9",
   "metadata": {},
   "outputs": [
    {
     "data": {
      "text/plain": [
       "[60, 50, 40, 'uday', 30, 20, 10]"
      ]
     },
     "execution_count": 349,
     "metadata": {},
     "output_type": "execute_result"
    }
   ],
   "source": [
    "s[::-1]   # it will print reverse"
   ]
  },
  {
   "cell_type": "code",
   "execution_count": 351,
   "id": "6c9203c4-da6a-41e6-be89-01576abad6da",
   "metadata": {},
   "outputs": [
    {
     "ename": "IndexError",
     "evalue": "list index out of range",
     "output_type": "error",
     "traceback": [
      "\u001b[1;31m---------------------------------------------------------------------------\u001b[0m",
      "\u001b[1;31mIndexError\u001b[0m                                Traceback (most recent call last)",
      "Cell \u001b[1;32mIn[351], line 1\u001b[0m\n\u001b[1;32m----> 1\u001b[0m s[\u001b[38;5;241m10\u001b[39m]\n",
      "\u001b[1;31mIndexError\u001b[0m: list index out of range"
     ]
    }
   ],
   "source": [
    "s[10]"
   ]
  },
  {
   "cell_type": "code",
   "execution_count": 353,
   "id": "665c2f78-2d0b-4802-a787-ca68c8d92d65",
   "metadata": {},
   "outputs": [
    {
     "data": {
      "text/plain": [
       "[10, 30, 40, 60]"
      ]
     },
     "execution_count": 353,
     "metadata": {},
     "output_type": "execute_result"
    }
   ],
   "source": [
    "s[0:10:2]"
   ]
  },
  {
   "cell_type": "code",
   "execution_count": 355,
   "id": "09029a2b-baee-4afe-92b2-601178ddcf72",
   "metadata": {},
   "outputs": [
    {
     "data": {
      "text/plain": [
       "1"
      ]
     },
     "execution_count": 355,
     "metadata": {},
     "output_type": "execute_result"
    }
   ],
   "source": [
    "s.count(20) # no of occurance"
   ]
  },
  {
   "cell_type": "code",
   "execution_count": 357,
   "id": "1c4526ba-6e97-4843-a76d-b5e1f0975a68",
   "metadata": {},
   "outputs": [
    {
     "data": {
      "text/plain": [
       "0"
      ]
     },
     "execution_count": 357,
     "metadata": {},
     "output_type": "execute_result"
    }
   ],
   "source": [
    "s.count(100) # 100 not avaliable in list soo that's y we got 0"
   ]
  },
  {
   "cell_type": "code",
   "execution_count": 359,
   "id": "6c31b3f1-6ea9-4623-aae3-169b769220c2",
   "metadata": {},
   "outputs": [
    {
     "data": {
      "text/plain": [
       "[10, 20, 30, 'uday', 40, 50, 60]"
      ]
     },
     "execution_count": 359,
     "metadata": {},
     "output_type": "execute_result"
    }
   ],
   "source": [
    "s2.extend(s)  #extend() keyword is to combind two lists into one\n",
    "s2"
   ]
  },
  {
   "cell_type": "code",
   "execution_count": 361,
   "id": "44862490-f006-47a4-83c7-2098e3e45d38",
   "metadata": {},
   "outputs": [
    {
     "data": {
      "text/plain": [
       "[10, 20, 30, 'uday', 40, 50, 60]"
      ]
     },
     "execution_count": 361,
     "metadata": {},
     "output_type": "execute_result"
    }
   ],
   "source": [
    "s"
   ]
  },
  {
   "cell_type": "code",
   "execution_count": 363,
   "id": "21b91fea-615e-4fb6-ad7c-5fb8e33b90d1",
   "metadata": {},
   "outputs": [
    {
     "data": {
      "text/plain": [
       "[60, 50, 40, 'uday', 30, 20, 10]"
      ]
     },
     "execution_count": 363,
     "metadata": {},
     "output_type": "execute_result"
    }
   ],
   "source": [
    "s.reverse()\n",
    "s"
   ]
  },
  {
   "cell_type": "code",
   "execution_count": 369,
   "id": "4ebc0caa-0f72-45d5-935a-606c319312c1",
   "metadata": {},
   "outputs": [],
   "source": [
    "s.insert(3,40)"
   ]
  },
  {
   "cell_type": "code",
   "execution_count": 371,
   "id": "d74b7f71-cbb2-4f96-ac3d-86e7cca74f61",
   "metadata": {},
   "outputs": [
    {
     "data": {
      "text/plain": [
       "[60, 50, 40, 40, 'uday', 30, 20, 10]"
      ]
     },
     "execution_count": 371,
     "metadata": {},
     "output_type": "execute_result"
    }
   ],
   "source": [
    "s"
   ]
  },
  {
   "cell_type": "code",
   "execution_count": 373,
   "id": "70373b43-11fb-4026-a091-5530fdc7a2a3",
   "metadata": {},
   "outputs": [
    {
     "data": {
      "text/plain": [
       "[4, 22, 1, 19]"
      ]
     },
     "execution_count": 373,
     "metadata": {},
     "output_type": "execute_result"
    }
   ],
   "source": [
    "s1_ = [4,22,1,19]\n",
    "s1_"
   ]
  },
  {
   "cell_type": "code",
   "execution_count": 379,
   "id": "3978066b-c6c7-4571-81ef-0cc7235918df",
   "metadata": {},
   "outputs": [],
   "source": [
    "s1_.sort()  # sort for re-arrange the order "
   ]
  },
  {
   "cell_type": "code",
   "execution_count": 381,
   "id": "4e60e4a5-3a4a-4c14-b002-f9539b267c5a",
   "metadata": {},
   "outputs": [
    {
     "data": {
      "text/plain": [
       "[1, 4, 19, 22]"
      ]
     },
     "execution_count": 381,
     "metadata": {},
     "output_type": "execute_result"
    }
   ],
   "source": [
    "s1_"
   ]
  },
  {
   "cell_type": "code",
   "execution_count": 383,
   "id": "2d6dd485-7c1c-4945-a037-b6f5e7ae04fe",
   "metadata": {},
   "outputs": [],
   "source": [
    "s1_.sort(reverse=True)"
   ]
  },
  {
   "cell_type": "code",
   "execution_count": 385,
   "id": "3c672476-13af-4584-82f9-e695faf466a3",
   "metadata": {},
   "outputs": [
    {
     "data": {
      "text/plain": [
       "[22, 19, 4, 1]"
      ]
     },
     "execution_count": 385,
     "metadata": {},
     "output_type": "execute_result"
    }
   ],
   "source": [
    "s1_"
   ]
  },
  {
   "cell_type": "code",
   "execution_count": null,
   "id": "a56fca40-19f9-412b-94c6-56557e610f61",
   "metadata": {},
   "outputs": [],
   "source": []
  }
 ],
 "metadata": {
  "kernelspec": {
   "display_name": "Python 3 (ipykernel)",
   "language": "python",
   "name": "python3"
  },
  "language_info": {
   "codemirror_mode": {
    "name": "ipython",
    "version": 3
   },
   "file_extension": ".py",
   "mimetype": "text/x-python",
   "name": "python",
   "nbconvert_exporter": "python",
   "pygments_lexer": "ipython3",
   "version": "3.12.7"
  }
 },
 "nbformat": 4,
 "nbformat_minor": 5
}
