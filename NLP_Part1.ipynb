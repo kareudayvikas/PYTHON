{
 "cells": [
  {
   "cell_type": "markdown",
   "id": "38dc666c-c397-493c-b3d7-be4a48f70c7c",
   "metadata": {},
   "source": [
    "* # TOKENS CONCEPT"
   ]
  },
  {
   "cell_type": "code",
   "execution_count": 75,
   "id": "cd8ed6f2-cc03-44ef-b0f1-3d7f6da4874c",
   "metadata": {},
   "outputs": [
    {
     "name": "stdout",
     "output_type": "stream",
     "text": [
      "showing info https://raw.githubusercontent.com/nltk/nltk_data/gh-pages/index.xml\n"
     ]
    },
    {
     "data": {
      "text/plain": [
       "True"
      ]
     },
     "execution_count": 75,
     "metadata": {},
     "output_type": "execute_result"
    }
   ],
   "source": [
    "import os\n",
    "import nltk\n",
    "nltk.download() #This command is used for Download NLTK packages "
   ]
  },
  {
   "cell_type": "code",
   "execution_count": 3,
   "id": "a5f46f22-3248-4c39-a9b9-1ef750ac5fcb",
   "metadata": {},
   "outputs": [],
   "source": [
    "import nltk.corpus"
   ]
  },
  {
   "cell_type": "code",
   "execution_count": 5,
   "id": "0295f94e-3482-4e0e-88b9-2effe8760ddf",
   "metadata": {},
   "outputs": [],
   "source": [
    "AI = '''Artificial Intelligence refers to the intelligence of machines. This is in contrast to the natural intelligence of\n",
    "humans and animals. With Artificial Intelligence, machines perform functions such as learning, planning, reasoning and\n",
    "problem-solving. Most noteworthy, Artificial Intelligence is the simulation of human intelligence by machines.\n",
    "It is probably the fastest-growing development in the World of technology and innovation. Furthermore, many experts believe\n",
    "AI could solve major challenges and crisis situations.'''"
   ]
  },
  {
   "cell_type": "code",
   "execution_count": 7,
   "id": "fe22b3f4-68b2-4de4-bc55-646236d54e17",
   "metadata": {},
   "outputs": [
    {
     "data": {
      "text/plain": [
       "'Artificial Intelligence refers to the intelligence of machines. This is in contrast to the natural intelligence of\\nhumans and animals. With Artificial Intelligence, machines perform functions such as learning, planning, reasoning and\\nproblem-solving. Most noteworthy, Artificial Intelligence is the simulation of human intelligence by machines.\\nIt is probably the fastest-growing development in the World of technology and innovation. Furthermore, many experts believe\\nAI could solve major challenges and crisis situations.'"
      ]
     },
     "execution_count": 7,
     "metadata": {},
     "output_type": "execute_result"
    }
   ],
   "source": [
    "AI"
   ]
  },
  {
   "cell_type": "code",
   "execution_count": 9,
   "id": "d8c32390-129a-4f23-91ac-eafcd500fc91",
   "metadata": {},
   "outputs": [
    {
     "data": {
      "text/plain": [
       "str"
      ]
     },
     "execution_count": 9,
     "metadata": {},
     "output_type": "execute_result"
    }
   ],
   "source": [
    "type(AI)"
   ]
  },
  {
   "cell_type": "code",
   "execution_count": 11,
   "id": "d4915964-3daa-41cc-906b-6aee5c4a9338",
   "metadata": {},
   "outputs": [],
   "source": [
    "from nltk.tokenize import word_tokenize   # Nltk.tokenize import word_tokenize is used for read like tokens."
   ]
  },
  {
   "cell_type": "code",
   "execution_count": 15,
   "id": "bd2efef4-864c-47ba-a2d5-59b557334a02",
   "metadata": {},
   "outputs": [
    {
     "data": {
      "text/plain": [
       "['Artificial',\n",
       " 'Intelligence',\n",
       " 'refers',\n",
       " 'to',\n",
       " 'the',\n",
       " 'intelligence',\n",
       " 'of',\n",
       " 'machines',\n",
       " '.',\n",
       " 'This',\n",
       " 'is',\n",
       " 'in',\n",
       " 'contrast',\n",
       " 'to',\n",
       " 'the',\n",
       " 'natural',\n",
       " 'intelligence',\n",
       " 'of',\n",
       " 'humans',\n",
       " 'and',\n",
       " 'animals',\n",
       " '.',\n",
       " 'With',\n",
       " 'Artificial',\n",
       " 'Intelligence',\n",
       " ',',\n",
       " 'machines',\n",
       " 'perform',\n",
       " 'functions',\n",
       " 'such',\n",
       " 'as',\n",
       " 'learning',\n",
       " ',',\n",
       " 'planning',\n",
       " ',',\n",
       " 'reasoning',\n",
       " 'and',\n",
       " 'problem-solving',\n",
       " '.',\n",
       " 'Most',\n",
       " 'noteworthy',\n",
       " ',',\n",
       " 'Artificial',\n",
       " 'Intelligence',\n",
       " 'is',\n",
       " 'the',\n",
       " 'simulation',\n",
       " 'of',\n",
       " 'human',\n",
       " 'intelligence',\n",
       " 'by',\n",
       " 'machines',\n",
       " '.',\n",
       " 'It',\n",
       " 'is',\n",
       " 'probably',\n",
       " 'the',\n",
       " 'fastest-growing',\n",
       " 'development',\n",
       " 'in',\n",
       " 'the',\n",
       " 'World',\n",
       " 'of',\n",
       " 'technology',\n",
       " 'and',\n",
       " 'innovation',\n",
       " '.',\n",
       " 'Furthermore',\n",
       " ',',\n",
       " 'many',\n",
       " 'experts',\n",
       " 'believe',\n",
       " 'AI',\n",
       " 'could',\n",
       " 'solve',\n",
       " 'major',\n",
       " 'challenges',\n",
       " 'and',\n",
       " 'crisis',\n",
       " 'situations',\n",
       " '.']"
      ]
     },
     "execution_count": 15,
     "metadata": {},
     "output_type": "execute_result"
    }
   ],
   "source": [
    "AI_tokens = word_tokenize(AI)\n",
    "AI_tokens"
   ]
  },
  {
   "cell_type": "code",
   "execution_count": 17,
   "id": "71ed0c47-1369-4e34-aae7-3b3300ec9d83",
   "metadata": {},
   "outputs": [],
   "source": [
    "from nltk.tokenize import sent_tokenize # sent_tokenize is used for read like sentence."
   ]
  },
  {
   "cell_type": "code",
   "execution_count": 19,
   "id": "ed4551f0-eb95-4c8b-8203-e3bd7bd5b1f4",
   "metadata": {},
   "outputs": [
    {
     "data": {
      "text/plain": [
       "['Artificial Intelligence refers to the intelligence of machines.',\n",
       " 'This is in contrast to the natural intelligence of\\nhumans and animals.',\n",
       " 'With Artificial Intelligence, machines perform functions such as learning, planning, reasoning and\\nproblem-solving.',\n",
       " 'Most noteworthy, Artificial Intelligence is the simulation of human intelligence by machines.',\n",
       " 'It is probably the fastest-growing development in the World of technology and innovation.',\n",
       " 'Furthermore, many experts believe\\nAI could solve major challenges and crisis situations.']"
      ]
     },
     "execution_count": 19,
     "metadata": {},
     "output_type": "execute_result"
    }
   ],
   "source": [
    "AI_sent = sent_tokenize(AI)\n",
    "AI_sent"
   ]
  },
  {
   "cell_type": "code",
   "execution_count": 21,
   "id": "66c4ebab-a0a7-4ffc-bbd4-c049c7f09465",
   "metadata": {},
   "outputs": [
    {
     "data": {
      "text/plain": [
       "6"
      ]
     },
     "execution_count": 21,
     "metadata": {},
     "output_type": "execute_result"
    }
   ],
   "source": [
    "len(AI_sent)"
   ]
  },
  {
   "cell_type": "code",
   "execution_count": 23,
   "id": "20b190bd-74eb-40e2-95f1-461c594ee2c1",
   "metadata": {},
   "outputs": [
    {
     "data": {
      "text/plain": [
       "'Artificial Intelligence refers to the intelligence of machines. This is in contrast to the natural intelligence of\\nhumans and animals. With Artificial Intelligence, machines perform functions such as learning, planning, reasoning and\\nproblem-solving. Most noteworthy, Artificial Intelligence is the simulation of human intelligence by machines.\\nIt is probably the fastest-growing development in the World of technology and innovation. Furthermore, many experts believe\\nAI could solve major challenges and crisis situations.'"
      ]
     },
     "execution_count": 23,
     "metadata": {},
     "output_type": "execute_result"
    }
   ],
   "source": [
    "AI"
   ]
  },
  {
   "cell_type": "code",
   "execution_count": 25,
   "id": "c0c33c82-c820-4bcd-978f-bfeb729ee41a",
   "metadata": {},
   "outputs": [
    {
     "data": {
      "text/plain": [
       "['Artificial Intelligence refers to the intelligence of machines. This is in contrast to the natural intelligence of\\nhumans and animals. With Artificial Intelligence, machines perform functions such as learning, planning, reasoning and\\nproblem-solving. Most noteworthy, Artificial Intelligence is the simulation of human intelligence by machines.\\nIt is probably the fastest-growing development in the World of technology and innovation. Furthermore, many experts believe\\nAI could solve major challenges and crisis situations.']"
      ]
     },
     "execution_count": 25,
     "metadata": {},
     "output_type": "execute_result"
    }
   ],
   "source": [
    "from nltk.tokenize import blankline_tokenize       # blankline_tokenize is used for read like paragraph\n",
    "AI_blank = blankline_tokenize(AI)\n",
    "AI_blank"
   ]
  },
  {
   "cell_type": "code",
   "execution_count": 27,
   "id": "b873b9f6-640e-469b-a3dc-64a5c660eb4c",
   "metadata": {},
   "outputs": [
    {
     "data": {
      "text/plain": [
       "1"
      ]
     },
     "execution_count": 27,
     "metadata": {},
     "output_type": "execute_result"
    }
   ],
   "source": [
    "len(AI_blank)"
   ]
  },
  {
   "cell_type": "code",
   "execution_count": 37,
   "id": "0f9492d1-4e05-4340-b4c9-b43d03559de1",
   "metadata": {},
   "outputs": [
    {
     "data": {
      "text/plain": [
       "['Artificial',\n",
       " 'Intelligence',\n",
       " 'refers',\n",
       " 'to',\n",
       " 'the',\n",
       " 'intelligence',\n",
       " 'of',\n",
       " 'machines.',\n",
       " 'This',\n",
       " 'is',\n",
       " 'in',\n",
       " 'contrast',\n",
       " 'to',\n",
       " 'the',\n",
       " 'natural',\n",
       " 'intelligence',\n",
       " 'of',\n",
       " 'humans',\n",
       " 'and',\n",
       " 'animals.',\n",
       " 'With',\n",
       " 'Artificial',\n",
       " 'Intelligence,',\n",
       " 'machines',\n",
       " 'perform',\n",
       " 'functions',\n",
       " 'such',\n",
       " 'as',\n",
       " 'learning,',\n",
       " 'planning,',\n",
       " 'reasoning',\n",
       " 'and',\n",
       " 'problem-solving.',\n",
       " 'Most',\n",
       " 'noteworthy,',\n",
       " 'Artificial',\n",
       " 'Intelligence',\n",
       " 'is',\n",
       " 'the',\n",
       " 'simulation',\n",
       " 'of',\n",
       " 'human',\n",
       " 'intelligence',\n",
       " 'by',\n",
       " 'machines.',\n",
       " 'It',\n",
       " 'is',\n",
       " 'probably',\n",
       " 'the',\n",
       " 'fastest-growing',\n",
       " 'development',\n",
       " 'in',\n",
       " 'the',\n",
       " 'World',\n",
       " 'of',\n",
       " 'technology',\n",
       " 'and',\n",
       " 'innovation.',\n",
       " 'Furthermore,',\n",
       " 'many',\n",
       " 'experts',\n",
       " 'believe',\n",
       " 'AI',\n",
       " 'could',\n",
       " 'solve',\n",
       " 'major',\n",
       " 'challenges',\n",
       " 'and',\n",
       " 'crisis',\n",
       " 'situations.']"
      ]
     },
     "execution_count": 37,
     "metadata": {},
     "output_type": "execute_result"
    }
   ],
   "source": [
    "from nltk.tokenize import WhitespaceTokenizer  # WhitespaceTokenizer is used for removing . , - \n",
    "wt = WhitespaceTokenizer().tokenize(AI)\n",
    "wt"
   ]
  },
  {
   "cell_type": "code",
   "execution_count": 39,
   "id": "cbc139f2-e1c8-4122-8464-ff172484b018",
   "metadata": {},
   "outputs": [
    {
     "name": "stdout",
     "output_type": "stream",
     "text": [
      "70\n"
     ]
    }
   ],
   "source": [
    "print(len(wt))"
   ]
  },
  {
   "cell_type": "code",
   "execution_count": 41,
   "id": "35f67789-48f7-42e0-9748-489cfc790584",
   "metadata": {},
   "outputs": [
    {
     "data": {
      "text/plain": [
       "'Good apple cpst $3.86 in hyd, please buy two apple.'"
      ]
     },
     "execution_count": 41,
     "metadata": {},
     "output_type": "execute_result"
    }
   ],
   "source": [
    "s = 'Good apple cpst $3.86 in hyd, please buy two apple.'\n",
    "s"
   ]
  },
  {
   "cell_type": "code",
   "execution_count": 43,
   "id": "7e2d9c19-dfb6-44da-8814-94ea4fdd3d9f",
   "metadata": {},
   "outputs": [
    {
     "data": {
      "text/plain": [
       "['Good',\n",
       " 'apple',\n",
       " 'cpst',\n",
       " '$',\n",
       " '3',\n",
       " '.',\n",
       " '86',\n",
       " 'in',\n",
       " 'hyd',\n",
       " ',',\n",
       " 'please',\n",
       " 'buy',\n",
       " 'two',\n",
       " 'apple',\n",
       " '.']"
      ]
     },
     "execution_count": 43,
     "metadata": {},
     "output_type": "execute_result"
    }
   ],
   "source": [
    "from nltk.tokenize import wordpunct_tokenize\n",
    "wordpunct_tokenize(s)"
   ]
  },
  {
   "cell_type": "code",
   "execution_count": 45,
   "id": "a27a656a-7477-4eb0-948b-6ba63b50b86f",
   "metadata": {},
   "outputs": [
    {
     "data": {
      "text/plain": [
       "51"
      ]
     },
     "execution_count": 45,
     "metadata": {},
     "output_type": "execute_result"
    }
   ],
   "source": [
    "len(s)"
   ]
  },
  {
   "cell_type": "code",
   "execution_count": 47,
   "id": "87ea3fa1-05cc-495f-a3a5-0bf1f83a9607",
   "metadata": {},
   "outputs": [],
   "source": [
    "from nltk.util import bigrams,trigrams,ngrams"
   ]
  },
  {
   "cell_type": "code",
   "execution_count": 51,
   "id": "96428262-014d-4eb0-ac69-0ab9ddd0781e",
   "metadata": {},
   "outputs": [
    {
     "data": {
      "text/plain": [
       "['Hello',\n",
       " 'the',\n",
       " 'best',\n",
       " 'most',\n",
       " 'beautiful',\n",
       " 'of',\n",
       " 'the',\n",
       " 'thing',\n",
       " 'in',\n",
       " 'this',\n",
       " 'world',\n",
       " 'is',\n",
       " 'you',\n",
       " 'uday',\n",
       " ',',\n",
       " 'i',\n",
       " 'love',\n",
       " 'you',\n",
       " 'soo',\n",
       " 'much']"
      ]
     },
     "execution_count": 51,
     "metadata": {},
     "output_type": "execute_result"
    }
   ],
   "source": [
    "string = 'Hello the best most beautiful of the thing in this world is you uday, i love you soo much'\n",
    "quotes_tokens = nltk.word_tokenize(string)\n",
    "quotes_tokens"
   ]
  },
  {
   "cell_type": "code",
   "execution_count": 53,
   "id": "2ae54882-f94f-4fc4-82c2-6a2d504eb0be",
   "metadata": {},
   "outputs": [
    {
     "data": {
      "text/plain": [
       "'Hello the best most beautiful of the thing in this world is you uday, i love you soo much'"
      ]
     },
     "execution_count": 53,
     "metadata": {},
     "output_type": "execute_result"
    }
   ],
   "source": [
    "string"
   ]
  },
  {
   "cell_type": "code",
   "execution_count": 55,
   "id": "82fbcfca-ca78-43f9-aae8-30fe07a37fdf",
   "metadata": {},
   "outputs": [
    {
     "data": {
      "text/plain": [
       "['Hello',\n",
       " 'the',\n",
       " 'best',\n",
       " 'most',\n",
       " 'beautiful',\n",
       " 'of',\n",
       " 'the',\n",
       " 'thing',\n",
       " 'in',\n",
       " 'this',\n",
       " 'world',\n",
       " 'is',\n",
       " 'you',\n",
       " 'uday',\n",
       " ',',\n",
       " 'i',\n",
       " 'love',\n",
       " 'you',\n",
       " 'soo',\n",
       " 'much']"
      ]
     },
     "execution_count": 55,
     "metadata": {},
     "output_type": "execute_result"
    }
   ],
   "source": [
    "quotes_tokens"
   ]
  },
  {
   "cell_type": "code",
   "execution_count": 57,
   "id": "04dd1b29-390c-4a41-bb9f-c44bba1edfc9",
   "metadata": {},
   "outputs": [
    {
     "data": {
      "text/plain": [
       "20"
      ]
     },
     "execution_count": 57,
     "metadata": {},
     "output_type": "execute_result"
    }
   ],
   "source": [
    "len(quotes_tokens)"
   ]
  },
  {
   "cell_type": "code",
   "execution_count": 73,
   "id": "f2e8dd30",
   "metadata": {},
   "outputs": [
    {
     "data": {
      "text/plain": [
       "[('Hello', 'the'),\n",
       " ('the', 'best'),\n",
       " ('best', 'most'),\n",
       " ('most', 'beautiful'),\n",
       " ('beautiful', 'of'),\n",
       " ('of', 'the'),\n",
       " ('the', 'thing'),\n",
       " ('thing', 'in'),\n",
       " ('in', 'this'),\n",
       " ('this', 'world'),\n",
       " ('world', 'is'),\n",
       " ('is', 'you'),\n",
       " ('you', 'uday'),\n",
       " ('uday', ','),\n",
       " (',', 'i'),\n",
       " ('i', 'love'),\n",
       " ('love', 'you'),\n",
       " ('you', 'soo'),\n",
       " ('soo', 'much')]"
      ]
     },
     "execution_count": 73,
     "metadata": {},
     "output_type": "execute_result"
    }
   ],
   "source": [
    "quotes_bigrams = list(nltk.bigrams(quotes_tokens)) #bigrams i used for 2 tokens\n",
    "quotes_bigrams"
   ]
  },
  {
   "cell_type": "code",
   "execution_count": 63,
   "id": "5406f46b-ed0f-426c-9d33-b90704f399cb",
   "metadata": {},
   "outputs": [
    {
     "data": {
      "text/plain": [
       "[('Hello', 'the', 'best'),\n",
       " ('the', 'best', 'most'),\n",
       " ('best', 'most', 'beautiful'),\n",
       " ('most', 'beautiful', 'of'),\n",
       " ('beautiful', 'of', 'the'),\n",
       " ('of', 'the', 'thing'),\n",
       " ('the', 'thing', 'in'),\n",
       " ('thing', 'in', 'this'),\n",
       " ('in', 'this', 'world'),\n",
       " ('this', 'world', 'is'),\n",
       " ('world', 'is', 'you'),\n",
       " ('is', 'you', 'uday'),\n",
       " ('you', 'uday', ','),\n",
       " ('uday', ',', 'i'),\n",
       " (',', 'i', 'love'),\n",
       " ('i', 'love', 'you'),\n",
       " ('love', 'you', 'soo'),\n",
       " ('you', 'soo', 'much')]"
      ]
     },
     "execution_count": 63,
     "metadata": {},
     "output_type": "execute_result"
    }
   ],
   "source": [
    "quotes_trigrams = list(nltk.trigrams(quotes_tokens)) #trigrams i used for 3 tokens\n",
    "quotes_trigrams"
   ]
  },
  {
   "cell_type": "code",
   "execution_count": 67,
   "id": "fc5c8b06-e089-4ed3-9b51-ba24523c8f39",
   "metadata": {},
   "outputs": [
    {
     "data": {
      "text/plain": [
       "[('Hello', 'the', 'best', 'most', 'beautiful', 'of', 'the', 'thing', 'in'),\n",
       " ('the', 'best', 'most', 'beautiful', 'of', 'the', 'thing', 'in', 'this'),\n",
       " ('best', 'most', 'beautiful', 'of', 'the', 'thing', 'in', 'this', 'world'),\n",
       " ('most', 'beautiful', 'of', 'the', 'thing', 'in', 'this', 'world', 'is'),\n",
       " ('beautiful', 'of', 'the', 'thing', 'in', 'this', 'world', 'is', 'you'),\n",
       " ('of', 'the', 'thing', 'in', 'this', 'world', 'is', 'you', 'uday'),\n",
       " ('the', 'thing', 'in', 'this', 'world', 'is', 'you', 'uday', ','),\n",
       " ('thing', 'in', 'this', 'world', 'is', 'you', 'uday', ',', 'i'),\n",
       " ('in', 'this', 'world', 'is', 'you', 'uday', ',', 'i', 'love'),\n",
       " ('this', 'world', 'is', 'you', 'uday', ',', 'i', 'love', 'you'),\n",
       " ('world', 'is', 'you', 'uday', ',', 'i', 'love', 'you', 'soo'),\n",
       " ('is', 'you', 'uday', ',', 'i', 'love', 'you', 'soo', 'much')]"
      ]
     },
     "execution_count": 67,
     "metadata": {},
     "output_type": "execute_result"
    }
   ],
   "source": [
    "quotes_ngrams = list(nltk.ngrams(quotes_tokens, 9)) # ngrams is used for n tokens\n",
    "quotes_ngrams"
   ]
  },
  {
   "cell_type": "code",
   "execution_count": 69,
   "id": "4ccf15ce-d758-4344-8440-8388db10eb85",
   "metadata": {},
   "outputs": [
    {
     "data": {
      "text/plain": [
       "[('Hello', 'the', 'best', 'most', 'beautiful'),\n",
       " ('the', 'best', 'most', 'beautiful', 'of'),\n",
       " ('best', 'most', 'beautiful', 'of', 'the'),\n",
       " ('most', 'beautiful', 'of', 'the', 'thing'),\n",
       " ('beautiful', 'of', 'the', 'thing', 'in'),\n",
       " ('of', 'the', 'thing', 'in', 'this'),\n",
       " ('the', 'thing', 'in', 'this', 'world'),\n",
       " ('thing', 'in', 'this', 'world', 'is'),\n",
       " ('in', 'this', 'world', 'is', 'you'),\n",
       " ('this', 'world', 'is', 'you', 'uday'),\n",
       " ('world', 'is', 'you', 'uday', ','),\n",
       " ('is', 'you', 'uday', ',', 'i'),\n",
       " ('you', 'uday', ',', 'i', 'love'),\n",
       " ('uday', ',', 'i', 'love', 'you'),\n",
       " (',', 'i', 'love', 'you', 'soo'),\n",
       " ('i', 'love', 'you', 'soo', 'much')]"
      ]
     },
     "execution_count": 69,
     "metadata": {},
     "output_type": "execute_result"
    }
   ],
   "source": [
    "quotes_ngrams = list(nltk.ngrams(quotes_tokens, 5))\n",
    "quotes_ngrams"
   ]
  },
  {
   "cell_type": "markdown",
   "id": "8f8a0af4-2b7e-445f-93df-5944148c2cae",
   "metadata": {},
   "source": [
    "# Completed Tokens"
   ]
  },
  {
   "cell_type": "code",
   "execution_count": null,
   "id": "7bfe325c-5985-4afa-bd88-e39208741b79",
   "metadata": {},
   "outputs": [],
   "source": []
  }
 ],
 "metadata": {
  "kernelspec": {
   "display_name": "Python 3 (ipykernel)",
   "language": "python",
   "name": "python3"
  },
  "language_info": {
   "codemirror_mode": {
    "name": "ipython",
    "version": 3
   },
   "file_extension": ".py",
   "mimetype": "text/x-python",
   "name": "python",
   "nbconvert_exporter": "python",
   "pygments_lexer": "ipython3",
   "version": "3.12.7"
  }
 },
 "nbformat": 4,
 "nbformat_minor": 5
}
